{
  "nbformat": 4,
  "nbformat_minor": 0,
  "metadata": {
    "colab": {
      "provenance": [],
      "gpuType": "T4",
      "authorship_tag": "ABX9TyPHcf9SRda0xxl6AZS6p+dF",
      "include_colab_link": true
    },
    "kernelspec": {
      "name": "python3",
      "display_name": "Python 3"
    },
    "language_info": {
      "name": "python"
    },
    "accelerator": "GPU"
  },
  "cells": [
    {
      "cell_type": "markdown",
      "metadata": {
        "id": "view-in-github",
        "colab_type": "text"
      },
      "source": [
        "<a href=\"https://colab.research.google.com/github/Vik7am10/SportsGPT/blob/main/SportsGPT.ipynb\" target=\"_parent\"><img src=\"https://colab.research.google.com/assets/colab-badge.svg\" alt=\"Open In Colab\"/></a>"
      ]
    },
    {
      "cell_type": "code",
      "execution_count": 8,
      "metadata": {
        "id": "hAaSTF0cT_p7"
      },
      "outputs": [],
      "source": [
        "import torch\n",
        "import torch.nn as nn\n",
        "from torch.nn import functional as F\n",
        "\n",
        "# Hyperparameters\n",
        "batch_size = 64\n",
        "block_size = 128  # Increase context size for longer sentences\n",
        "max_iters = 5000\n",
        "eval_interval = 500\n",
        "learning_rate = 3e-4\n",
        "device = 'cuda' if torch.cuda.is_available() else 'cpu'\n",
        "eval_iters = 200\n",
        "n_embd = 512  # Increased embedding size\n",
        "n_head = 8  # More attention heads for better context understanding\n",
        "n_layer = 8  # More transformer layers\n",
        "dropout = 0.2"
      ]
    },
    {
      "cell_type": "code",
      "source": [
        "import sentencepiece as spm\n",
        "\n",
        "# Train a tokenizer\n",
        "spm.SentencePieceTrainer.train(input='espn_sports.txt', model_prefix='sports_gpt', vocab_size=400)\n",
        "\n",
        "# Load the trained tokenizer\n",
        "sp = spm.SentencePieceProcessor(model_file='sports_gpt.model')\n",
        "\n",
        "# Encode the training data\n",
        "with open(\"espn_sports.txt\", \"r\", encoding=\"utf-8\") as f:\n",
        "    text = f.read()\n",
        "\n",
        "encoded_text = sp.encode(text, out_type=int)\n",
        "\n",
        "torch.save(torch.tensor(encoded_text), \"espn_sports_encoded.pt\")\n",
        "print(\"Training data tokenized and saved!\")\n",
        "\n",
        "# Load tokenized data\n",
        "data = torch.load(\"espn_sports_encoded.pt\")\n",
        "\n",
        "# Train and validation split\n",
        "n = int(0.9 * len(data))\n",
        "train_data = data[:n]\n",
        "val_data = data[n:]"
      ],
      "metadata": {
        "colab": {
          "base_uri": "https://localhost:8080/"
        },
        "id": "EHhi824EUGtX",
        "outputId": "d11104ba-2972-4317-b7a2-1e1e0782db10"
      },
      "execution_count": 9,
      "outputs": [
        {
          "output_type": "stream",
          "name": "stdout",
          "text": [
            "Training data tokenized and saved!\n"
          ]
        },
        {
          "output_type": "stream",
          "name": "stderr",
          "text": [
            "<ipython-input-9-9f88c21378fb>:19: FutureWarning: You are using `torch.load` with `weights_only=False` (the current default value), which uses the default pickle module implicitly. It is possible to construct malicious pickle data which will execute arbitrary code during unpickling (See https://github.com/pytorch/pytorch/blob/main/SECURITY.md#untrusted-models for more details). In a future release, the default value for `weights_only` will be flipped to `True`. This limits the functions that could be executed during unpickling. Arbitrary objects will no longer be allowed to be loaded via this mode unless they are explicitly allowlisted by the user via `torch.serialization.add_safe_globals`. We recommend you start setting `weights_only=True` for any use case where you don't have full control of the loaded file. Please open an issue on GitHub for any issues related to this experimental feature.\n",
            "  data = torch.load(\"espn_sports_encoded.pt\")\n"
          ]
        }
      ]
    },
    {
      "cell_type": "code",
      "source": [
        "def get_batch(split):\n",
        "    data = train_data if split == 'train' else val_data\n",
        "\n",
        "    # Ensure block_size is within bounds\n",
        "    if len(data) <= block_size:\n",
        "        raise ValueError(f\"Dataset too small! Length: {len(data)}, Block size: {block_size}\")\n",
        "\n",
        "    ix = torch.randint(0, len(data) - block_size, (batch_size,))\n",
        "    x = torch.stack([data[i:i+block_size] for i in ix])\n",
        "    y = torch.stack([data[i+1:i+block_size+1] for i in ix])\n",
        "    return x.to(device), y.to(device)\n"
      ],
      "metadata": {
        "id": "64qB8zu4URR4"
      },
      "execution_count": 10,
      "outputs": []
    },
    {
      "cell_type": "code",
      "source": [
        "# Define Transformer Model\n",
        "class TransformerBlock(nn.Module):\n",
        "    def __init__(self, n_embd, n_head):\n",
        "        super().__init__()\n",
        "        self.attn = nn.MultiheadAttention(embed_dim=n_embd, num_heads=n_head, dropout=dropout)\n",
        "        self.ffn = nn.Sequential(\n",
        "            nn.Linear(n_embd, 4 * n_embd),\n",
        "            nn.ReLU(),\n",
        "            nn.Linear(4 * n_embd, n_embd),\n",
        "            nn.Dropout(dropout)\n",
        "        )\n",
        "        self.norm1 = nn.LayerNorm(n_embd)\n",
        "        self.norm2 = nn.LayerNorm(n_embd)\n",
        "\n",
        "    def forward(self, x):\n",
        "        x = x + self.attn(x, x, x)[0]\n",
        "        x = self.norm1(x)\n",
        "        x = x + self.ffn(x)\n",
        "        x = self.norm2(x)\n",
        "        return x"
      ],
      "metadata": {
        "id": "qjnsKKnuUS6r"
      },
      "execution_count": 11,
      "outputs": []
    },
    {
      "cell_type": "code",
      "source": [
        "class SportsGPT(nn.Module):\n",
        "    def __init__(self, vocab_size, n_embd, n_head, n_layer):\n",
        "        super().__init__()\n",
        "        self.token_embedding = nn.Embedding(vocab_size, n_embd)\n",
        "        self.position_embedding = nn.Embedding(block_size, n_embd)\n",
        "        self.blocks = nn.Sequential(*[TransformerBlock(n_embd, n_head) for _ in range(n_layer)])\n",
        "        self.ln_f = nn.LayerNorm(n_embd)\n",
        "        self.head = nn.Linear(n_embd, vocab_size)\n",
        "\n",
        "    def forward(self, idx, targets=None):\n",
        "        B, T = idx.shape\n",
        "        tok_emb = self.token_embedding(idx)\n",
        "        pos_emb = self.position_embedding(torch.arange(T, device=device))\n",
        "        x = tok_emb + pos_emb\n",
        "        x = self.blocks(x)\n",
        "        x = self.ln_f(x)\n",
        "        logits = self.head(x)\n",
        "\n",
        "        loss = None\n",
        "        if targets is not None:\n",
        "            loss = F.cross_entropy(logits.view(-1, logits.size(-1)), targets.view(-1))\n",
        "\n",
        "        return logits, loss\n",
        "\n",
        "    def generate(self, idx, max_new_tokens):\n",
        "        for _ in range(max_new_tokens):\n",
        "            idx_cond = idx[:, -block_size:]\n",
        "            logits, _ = self(idx_cond)\n",
        "            logits = logits[:, -1, :]\n",
        "            probs = F.softmax(logits, dim=-1)\n",
        "            idx_next = torch.multinomial(probs, num_samples=1)\n",
        "            idx = torch.cat((idx, idx_next), dim=1)\n",
        "        return idx\n",
        "\n",
        "# Model setup\n",
        "vocab_size = 30000  # Tokenized vocabulary size\n",
        "model = SportsGPT(vocab_size, n_embd, n_head, n_layer).to(device)\n",
        "optimizer = torch.optim.AdamW(model.parameters(), lr=learning_rate)"
      ],
      "metadata": {
        "id": "ypKkzqliUYqe"
      },
      "execution_count": 12,
      "outputs": []
    },
    {
      "cell_type": "code",
      "source": [
        "for iter in range(max_iters):\n",
        "    if iter % eval_interval == 0:\n",
        "        losses = {\"train\": 0, \"val\": 0}\n",
        "        model.eval()\n",
        "        with torch.no_grad():\n",
        "            for split in ['train', 'val']:\n",
        "                loss_sum = 0\n",
        "                for _ in range(eval_iters):\n",
        "                    X, Y = get_batch(split)\n",
        "                    _, loss = model(X, Y)\n",
        "                    loss_sum += loss.item()\n",
        "                losses[split] = loss_sum / eval_iters\n",
        "        print(f\"Step {iter}: Train loss {losses['train']:.4f}, Val loss {losses['val']:.4f}\")\n",
        "        model.train()\n",
        "\n",
        "    xb, yb = get_batch('train')\n",
        "    _, loss = model(xb, yb)\n",
        "    optimizer.zero_grad()\n",
        "    loss.backward()\n",
        "    optimizer.step()\n"
      ],
      "metadata": {
        "colab": {
          "base_uri": "https://localhost:8080/"
        },
        "id": "FTV6QlREUgyw",
        "outputId": "d7049907-c827-4389-9ba0-39a61b291d3f"
      },
      "execution_count": null,
      "outputs": [
        {
          "output_type": "stream",
          "name": "stdout",
          "text": [
            "Step 0: Train loss 10.4911, Val loss 10.5175\n",
            "Step 500: Train loss 1.6366, Val loss 7.5207\n",
            "Step 1000: Train loss 1.6225, Val loss 8.0250\n",
            "Step 1500: Train loss 1.6170, Val loss 8.2370\n",
            "Step 2000: Train loss 1.6150, Val loss 8.2175\n",
            "Step 2500: Train loss 1.6163, Val loss 8.3465\n",
            "Step 3000: Train loss 1.6150, Val loss 8.5725\n",
            "Step 3500: Train loss 1.6181, Val loss 8.6348\n",
            "Step 4000: Train loss 1.6112, Val loss 8.7202\n",
            "Step 4500: Train loss 1.6070, Val loss 8.7971\n",
            "Step 5000: Train loss 1.6083, Val loss 8.8162\n",
            "Step 5500: Train loss 1.6062, Val loss 8.7779\n",
            "Step 6000: Train loss 1.6046, Val loss 8.9021\n",
            "Step 6500: Train loss 1.6030, Val loss 8.9220\n",
            "Step 7000: Train loss 1.6040, Val loss 9.0345\n",
            "Step 7500: Train loss 1.6060, Val loss 8.9627\n"
          ]
        }
      ]
    },
    {
      "cell_type": "code",
      "source": [
        "context = torch.zeros((1, 1), dtype=torch.long, device=device)\n",
        "generated_text = model.generate(context, max_new_tokens=500)[0].tolist()\n",
        "print(sp.decode(generated_text))\n"
      ],
      "metadata": {
        "id": "vlfzl-lAUhpP"
      },
      "execution_count": null,
      "outputs": []
    }
  ]
}